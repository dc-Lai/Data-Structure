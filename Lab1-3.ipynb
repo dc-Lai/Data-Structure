{
 "cells": [
  {
   "cell_type": "markdown",
   "metadata": {},
   "source": [
    "# Contest 1 Merge Sort"
   ]
  },
  {
   "cell_type": "markdown",
   "metadata": {},
   "source": [
    "## （1）归并排序的流程"
   ]
  },
  {
   "cell_type": "markdown",
   "metadata": {},
   "source": [
    "<img src=\"1.jpg\" />"
   ]
  },
  {
   "cell_type": "markdown",
   "metadata": {},
   "source": [
    "## (2) 合并两个有序数组的流程"
   ]
  },
  {
   "cell_type": "markdown",
   "metadata": {},
   "source": [
    "<img src=\"2.jpg\" />"
   ]
  },
  {
   "cell_type": "markdown",
   "metadata": {},
   "source": [
    "## 动图展示"
   ]
  },
  {
   "cell_type": "markdown",
   "metadata": {},
   "source": [
    "<img src=\"3.gif\">"
   ]
  },
  {
   "cell_type": "markdown",
   "metadata": {},
   "source": [
    "## 代码实现"
   ]
  },
  {
   "cell_type": "code",
   "execution_count": null,
   "metadata": {},
   "outputs": [],
   "source": [
    "def divide(A, left, right):\n",
    "    '''\n",
    "    将数组拆分成两个数组\n",
    "    '''\n",
    "    if left == right:\n",
    "        return\n",
    "    middle = (left + right) // 2\n",
    "    divide(A, left, middle)\n",
    "    divide(A, middle + 1, right)\n",
    "    merge(A, left, middle, right)\n",
    "\n",
    "def merge(A, left, middle, right):\n",
    "    '''\n",
    "    合并两个有序数组\n",
    "     '''\n",
    "    tmp = []\n",
    "    i = 0\n",
    "    p1 = left\n",
    "    p2 = middle + 1\n",
    "    #比较左右两部分的元素，哪个小，把那个元素填入tmp中\n",
    "    while p1 <= middle and p2 <= right:\n",
    "        if A[p1] < A[p2]:\n",
    "            tmp.append(A[p1])\n",
    "            p1 += 1\n",
    "        else:\n",
    "            tmp.append(A[p2])\n",
    "            p2 += 1\n",
    "    #上面的循环退出后，把剩余的元素依次填入到temp中\n",
    "    if p1 <= middle:\n",
    "        tmp.append(A[p1])\n",
    "        p1 += 1\n",
    "    else:\n",
    "        tmp.append(A[p2])\n",
    "        p2 += 1\n",
    "    for i in range(len(tmp)):\n",
    "        A[left + i] = tmp[i]\n",
    "\n",
    "if __name__ == \"__main__\":\n",
    "    Num = int(input())     #要排序的列表个数，需要将输入的字符转换成int类型\n",
    "    for i in range(Num):\n",
    "        array = input().split()\n",
    "        array = [int(x) for x in array]    #将输入的字符类型的list转换成整形的list\n",
    "        divide(array, 0, len(array)-1)\n",
    "        print(array)"
   ]
  },
  {
   "cell_type": "markdown",
   "metadata": {},
   "source": [
    "# Quick Sort"
   ]
  },
  {
   "cell_type": "markdown",
   "metadata": {},
   "source": [
    "## 核心思想"
   ]
  },
  {
   "cell_type": "markdown",
   "metadata": {},
   "source": [
    "通过一趟排序将要排序的数据分割成独立的两部分，其中一部分的所有数据都比另外一部分的所有数据都要小，然后再按此方法对这两部分数据分别进行快速排序，整个排序过程可以递归进行，以此达到整个数据变成有序序列"
   ]
  },
  {
   "cell_type": "markdown",
   "metadata": {},
   "source": [
    "## 图解"
   ]
  },
  {
   "cell_type": "markdown",
   "metadata": {},
   "source": [
    "假设下面这个数组是待排序数组：\n",
    "（6, 1, 2, 7, 9, 3, 4, 5, 10, 8）"
   ]
  },
  {
   "cell_type": "markdown",
   "metadata": {},
   "source": [
    "方法其实很简单：首先选取待排序数组的第一个数为基准数，也就是6，然后分别从初始序列“（6, 1, 2, 7, 9, 3, 4, 5, 10, 8）”两端开始“探测”。先从右往左找一个小于6的数，再从左往右找一个大于6的数，然后交换他们。这里可以用两个变量i和j，分别指向序列最左边和最右边。我们为这两个变量起个好听的名字“哨兵i”和“哨兵j”。刚开始的时候让哨兵i指向序列的最左边（即i=1），指向数字6。让哨兵j指向序列的最右边（即j=10），指向数字8。"
   ]
  },
  {
   "cell_type": "markdown",
   "metadata": {},
   "source": [
    "<img src=\"qs1.png\" />"
   ]
  },
  {
   "cell_type": "markdown",
   "metadata": {},
   "source": [
    "首先哨兵j开始出动。因为此处设置的基准数是最左边的数，所以需要让哨兵j先出动，这一点非常重要（请自己想一想为什么）。哨兵j一步一步地向左挪动（即j--），直到找到一个小于6的数停下来。接下来哨兵i再一步一步向右挪动（即i++），直到找到一个数大于6的数停下来。最后哨兵j停在了数字5面前，哨兵i停在了数字7面前。"
   ]
  },
  {
   "cell_type": "markdown",
   "metadata": {},
   "source": [
    "|<img src=\"qs2.jpg\" />"
   ]
  },
  {
   "cell_type": "markdown",
   "metadata": {},
   "source": [
    "现在交换哨兵i和哨兵j所指向的元素的值。交换之后的序列为（6, 1, 2, 5, 9, 3, 4, 7, 10, 8）。\n",
    "\n",
    "接下来开始哨兵j继续向左挪动（再友情提醒，每次必须是哨兵j先出发）。他发现了4（比基准数6要小，满足要求）之后停了下来。哨兵i也继续向右挪动的，他发现了9（比基准数6要大，满足要求）之后停了下来。此时再次进行交换，交换之后的序列为（6, 1, 2, 5, 4, 3, 9, 7, 10, 8）。"
   ]
  },
  {
   "cell_type": "markdown",
   "metadata": {},
   "source": [
    "<img src=\"qs3.jpg\" />"
   ]
  },
  {
   "cell_type": "markdown",
   "metadata": {},
   "source": [
    "哨兵j继续向左挪动，他发现了3（比基准数6要小，满足要求）之后又停了下来。哨兵i继续向右移动，糟啦！此时哨兵i和哨兵j相遇了，哨兵i和哨兵j都走到3面前。说明此时“探测”结束。3比6小所以我们将基准数6和3进行交换。交换之后的序列为（3, 1, 2, 5, 4, 6, 9, 7, 10, 8）。"
   ]
  },
  {
   "cell_type": "markdown",
   "metadata": {},
   "source": [
    "<img src=\"qs5.jpg\" />"
   ]
  },
  {
   "cell_type": "markdown",
   "metadata": {},
   "source": [
    "此时第一趟排序结束，我们已经把待排序数组分成了以6为基准，左边一列序列，右边一序列，左边序列的数比右边序列的数都小。不过此时左右两部分中的数各自的排序仍然是混乱的，还要继续排序。"
   ]
  },
  {
   "cell_type": "markdown",
   "metadata": {},
   "source": [
    "<img src=\"qs6.png\" />"
   ]
  },
  {
   "cell_type": "code",
   "execution_count": 2,
   "metadata": {},
   "outputs": [
    {
     "name": "stdout",
     "output_type": "stream",
     "text": [
      "1\n",
      "6 1 3 5 9\n",
      "[1, 3, 5, 6, 9]\n"
     ]
    }
   ],
   "source": [
    "def quick_sort(A, left, right):\n",
    "    if left >= right:\n",
    "        return\n",
    "    \n",
    "    pivot = A[left]     #设置第一个元素为基准数\n",
    "    i = left\n",
    "    j = right\n",
    "    while i != j:\n",
    "        while A[j] >= pivot and i < j:\n",
    "            j -= 1\n",
    "        while A[i] <= pivot and i < j:\n",
    "            i += 1\n",
    "\n",
    "        if i < j:\n",
    "            A[i], A[j] = A[j], A[i]\n",
    "    A[left], A[i] = A[i], A[left]\n",
    "    \n",
    "    quick_sort(A, left, i - 1)\n",
    "    quick_sort(A, i + 1, right)\n",
    "    \n",
    "if __name__ == \"__main__\":\n",
    "    Num = int(input())     #要排序的列表个数，需要将输入的字符转换成int类型\n",
    "    for i in range(Num):\n",
    "        array = input().split()\n",
    "        array = [int(x) for x in array]    #将输入的字符类型的list转换成整形的list\n",
    "        quick_sort(array, 0, len(array) - 1)\n",
    "        print(array)"
   ]
  },
  {
   "cell_type": "markdown",
   "metadata": {},
   "source": [
    "# Contest 2 十进制转二进制"
   ]
  },
  {
   "cell_type": "markdown",
   "metadata": {},
   "source": [
    "## 压栈"
   ]
  },
  {
   "cell_type": "markdown",
   "metadata": {},
   "source": [
    "<img src=\"GIF2.gif\" />"
   ]
  },
  {
   "cell_type": "markdown",
   "metadata": {},
   "source": [
    "## 出栈"
   ]
  },
  {
   "cell_type": "markdown",
   "metadata": {},
   "source": [
    "<img src=\"GIF3.gif\" />"
   ]
  },
  {
   "cell_type": "code",
   "execution_count": 15,
   "metadata": {},
   "outputs": [
    {
     "name": "stdout",
     "output_type": "stream",
     "text": [
      "48\n",
      "110000"
     ]
    }
   ],
   "source": [
    "class Stack():\n",
    "    def __init__(self,size):\n",
    "        self.size = size\n",
    "        self.stack = []\n",
    "        self.top = -1\n",
    "\n",
    "    def push(self,x):   # 入栈之前检查栈是否已满\n",
    "        if self.isfull():\n",
    "            raise Exception(\"stack is full\")\n",
    "        else:\n",
    "            self.stack.append(x)\n",
    "            self.top=self.top + 1\n",
    "\n",
    "    def pop(self):  # 出栈之前检查栈是否为空\n",
    "        if self.isempty():\n",
    "            raise Exception(\"stack is empty\")\n",
    "        else:\n",
    "            self.top = self.top - 1\n",
    "            return self.stack.pop()\n",
    "\n",
    "    def isfull(self):\n",
    "        return self.top + 1 == self.size\n",
    "    \n",
    "    def isempty(self):\n",
    "        return self.top == -1\n",
    "    \n",
    "    def showStack(self):\n",
    "        while self.top != -1:\n",
    "            print(self.pop(), end=\"\")\n",
    "\n",
    "        \n",
    "def ten2bin(n):\n",
    "    while True:\n",
    "        s.push(n % 2)\n",
    "        n = int(n / 2)\n",
    "        if n == 0:\n",
    "            return\n",
    "    \n",
    "        \n",
    "s = Stack(100)\n",
    "num = int(input())\n",
    "ten2bin(num)\n",
    "s.showStack()"
   ]
  },
  {
   "cell_type": "markdown",
   "metadata": {},
   "source": [
    "# 括号匹配"
   ]
  },
  {
   "cell_type": "code",
   "execution_count": 1,
   "metadata": {},
   "outputs": [
    {
     "name": "stdout",
     "output_type": "stream",
     "text": [
      "4Print(abc[0]+’This is a {}’)\n",
      "True\n"
     ]
    }
   ],
   "source": [
    "class Stack():\n",
    "    def __init__(self,size):\n",
    "        self.size = size\n",
    "        self.stack = []\n",
    "        self.top = -1\n",
    "\n",
    "    def push(self,x):   # 入栈之前检查栈是否已满\n",
    "        if self.isfull():\n",
    "            raise Exception(\"stack is full\")\n",
    "        else:\n",
    "            self.stack.append(x)\n",
    "            self.top=self.top + 1\n",
    "\n",
    "    def pop(self):  # 出栈之前检查栈是否为空\n",
    "        if self.isempty():\n",
    "            raise Exception(\"stack is empty\")\n",
    "        else:\n",
    "            self.top = self.top - 1\n",
    "            return self.stack.pop()\n",
    "\n",
    "    def isfull(self):\n",
    "        return self.top + 1 == self.size\n",
    "    \n",
    "    def isempty(self):\n",
    "        return self.top == -1\n",
    "\n",
    "def bracket_match(str):\n",
    "    bracket_dict = {'{': '}', '[': ']', '(': ')'}\n",
    "    for x in str:\n",
    "        if x in ['{', '[', '(']:\n",
    "            s.push(bracket_dict[x])\n",
    "        elif x in ['}', ']', ')']:\n",
    "            if s.isempty():\n",
    "                return False\n",
    "            elif s.pop() != x:\n",
    "                return False\n",
    "    return s.isempty()\n",
    "    \n",
    "    \n",
    "if __name__ == '__main__':\n",
    "    s = Stack(100)\n",
    "    str = list(input())\n",
    "    print(bracket_match(str))"
   ]
  },
  {
   "cell_type": "markdown",
   "metadata": {},
   "source": [
    "# Contest 3 逢七就出"
   ]
  },
  {
   "cell_type": "code",
   "execution_count": 1,
   "metadata": {},
   "outputs": [
    {
     "name": "stdout",
     "output_type": "stream",
     "text": [
      "10\n",
      "7\n",
      "4\n",
      "2\n",
      "1\n",
      "3\n",
      "6\n",
      "10\n",
      "5\n",
      "8\n",
      "9\n"
     ]
    }
   ],
   "source": [
    "class list_node:\n",
    "    def __init__(self, data = None):\n",
    "        self.data = data\n",
    "        self.next = None\n",
    "        \n",
    "class linked_list:\n",
    "    def __init__(self):\n",
    "        self.head = None\n",
    "    \n",
    "    def init_list(self, data):\n",
    "        self.head = list_node(data[0])\n",
    "        p = self.head\n",
    "        for i in data[1:]:\n",
    "            node = list_node(i)\n",
    "            p.next = node\n",
    "            p = p.next\n",
    "        return self.head\n",
    "    \n",
    "    def delete(self, index):\n",
    "        if index == 0:\n",
    "            print(self.head.data)\n",
    "            self.head = self.head.next\n",
    "            return\n",
    "        else:\n",
    "            count = 0\n",
    "            p = self.head\n",
    "            while count < index:\n",
    "                pre = p\n",
    "                count += 1\n",
    "                p = p.next\n",
    "            print(p.data)\n",
    "            pre.next = p.next\n",
    "            p = None\n",
    "    \n",
    "    def print_list(self):\n",
    "        p = self.head\n",
    "        while p:\n",
    "            print(p.data)\n",
    "            p = p.next\n",
    "            \n",
    "    def length(self):\n",
    "        p = self.head\n",
    "        count = 0\n",
    "        while p:\n",
    "            count += 1\n",
    "            p = p.next\n",
    "        return count\n",
    "\n",
    "if __name__ == \"__main__\":\n",
    "    N = int(input())\n",
    "    data = [i+1 for i in range(N)]\n",
    "    L = linked_list()\n",
    "    L.init_list(data)\n",
    "    top = 0\n",
    "    while L.length() > 0:\n",
    "        top = (top + 7) % L.length()\n",
    "        if top == 0:\n",
    "            top = L.length()\n",
    "        top -= 1\n",
    "        L.delete(top)"
   ]
  },
  {
   "cell_type": "markdown",
   "metadata": {},
   "source": [
    "# 链表转置"
   ]
  },
  {
   "cell_type": "markdown",
   "metadata": {},
   "source": [
    "## 递归实现"
   ]
  },
  {
   "cell_type": "markdown",
   "metadata": {},
   "source": [
    "<img src=\"068.png\">"
   ]
  },
  {
   "cell_type": "markdown",
   "metadata": {},
   "source": [
    "<img src=\"1069.png\">"
   ]
  },
  {
   "cell_type": "code",
   "execution_count": 47,
   "metadata": {},
   "outputs": [
    {
     "name": "stdout",
     "output_type": "stream",
     "text": [
      "5\n",
      "6 1 2 3 5\n",
      "5\n",
      "3\n",
      "2\n",
      "1\n",
      "6\n"
     ]
    }
   ],
   "source": [
    "class Node:\n",
    "    def __init__(self, data=None):\n",
    "        self.data = data\n",
    "        self.next = None\n",
    "\n",
    "def reverseList1(head):\n",
    "    if (head == None) or (head.next ==None):\n",
    "        return head\n",
    "    newList = reverseList1(head.next)\n",
    "    temp = head.next\n",
    "    temp.next = head\n",
    "    head.next = None\n",
    "    return newList\n",
    "\n",
    "if __name__ =='__main__':\n",
    "    #读取数据\n",
    "    n = int(input())\n",
    "    data = input().split()\n",
    "    data = [int(i) for i in data]\n",
    "    \n",
    "    #构造头结点\n",
    "    head = Node()\n",
    "    p = head\n",
    "\n",
    "    #构造链表\n",
    "    for i in range(n):\n",
    "        num = data[i]\n",
    "        p.data = num\n",
    "        if i != n-1:\n",
    "            newNode = Node()\n",
    "            p.next = newNode\n",
    "            p = p.next\n",
    "        else:\n",
    "            p.next = None\n",
    "    \n",
    "    #链表转置\n",
    "    q = reverseList1(head)\n",
    "\n",
    "    #输出转置后的链表\n",
    "    while q !=None:\n",
    "        print(q.data)\n",
    "        q= q.next"
   ]
  },
  {
   "cell_type": "markdown",
   "metadata": {},
   "source": [
    "## 三个指针逐个翻转"
   ]
  },
  {
   "cell_type": "markdown",
   "metadata": {
    "scrolled": false
   },
   "source": [
    "<img src=\"Capture059.png\" />"
   ]
  },
  {
   "cell_type": "code",
   "execution_count": 48,
   "metadata": {},
   "outputs": [
    {
     "name": "stdout",
     "output_type": "stream",
     "text": [
      "5\n",
      "6 1 2 3 5\n",
      "5\n",
      "3\n",
      "2\n",
      "1\n",
      "6\n"
     ]
    }
   ],
   "source": [
    "class Node:\n",
    "    def __init__(self, data=None):\n",
    "        self.data = data\n",
    "        self.next = None\n",
    "        \n",
    "def reverseList2(head):\n",
    "    p = head\n",
    "    q = head.next\n",
    "    p.next = None\n",
    "    while q:\n",
    "        r = q.next\n",
    "        q.next = p\n",
    "        p = q\n",
    "        q = r\n",
    "    return p\n",
    "\n",
    "if __name__ =='__main__':\n",
    "    #读取数据\n",
    "    n = int(input())\n",
    "    data = input().split()\n",
    "    data = [int(i) for i in data]\n",
    "    \n",
    "    #构造头结点\n",
    "    head = Node()\n",
    "    p = head\n",
    "\n",
    "    #构造链表\n",
    "    for i in range(n):\n",
    "        num = data[i]\n",
    "        p.data = num\n",
    "        if i != n-1:\n",
    "            newNode = Node()\n",
    "            p.next = newNode\n",
    "            p = p.next\n",
    "        else:\n",
    "            p.next = None\n",
    "    \n",
    "    #链表转置\n",
    "    q = reverseList2(head)\n",
    "\n",
    "    #输出转置后的链表\n",
    "    while q !=None:\n",
    "        print(q.data)\n",
    "        q= q.next"
   ]
  },
  {
   "cell_type": "markdown",
   "metadata": {},
   "source": [
    "## 从第2个节点到第N个节点，依次逐节点插入到第1个节点(head节点)之后，最后将第一个节点挪到新表的表尾。 "
   ]
  },
  {
   "cell_type": "markdown",
   "metadata": {},
   "source": [
    "<img src=\"4.gif\" />"
   ]
  },
  {
   "cell_type": "code",
   "execution_count": null,
   "metadata": {},
   "outputs": [],
   "source": [
    "class Node:\n",
    "    def __init__(self, data=None):\n",
    "        self.data = data\n",
    "        self.next = None\n",
    "        \n",
    "def reverseList3(head):\n",
    "    if (head == None) or (head.next ==None):\n",
    "        return head\n",
    "    p = head.next\n",
    "    q = p\n",
    "    while p.next:\n",
    "        r = q\n",
    "        q = p.next\n",
    "        p.next = q.next\n",
    "        head.next = q\n",
    "        q.next = r\n",
    "        \n",
    "    p.next = head\n",
    "    head = head.next\n",
    "    p.next.next = None\n",
    "    return head\n",
    "\n",
    "if __name__ =='__main__':\n",
    "    #读取数据\n",
    "    n = int(input())\n",
    "    data = input().split()\n",
    "    data = [int(i) for i in data]\n",
    "    \n",
    "    #构造头结点\n",
    "    head = Node()\n",
    "    p = head\n",
    "\n",
    "    #构造链表\n",
    "    for i in range(n):\n",
    "        num = data[i]\n",
    "        p.data = num\n",
    "        if i != n-1:\n",
    "            newNode = Node()\n",
    "            p.next = newNode\n",
    "            p = p.next\n",
    "        else:\n",
    "            p.next = None\n",
    "    \n",
    "    #链表转置\n",
    "    q = reverseList3(head)\n",
    "\n",
    "    #输出转置后的链表\n",
    "    while q !=None:\n",
    "        print(q.data)\n",
    "        q= q.next"
   ]
  },
  {
   "cell_type": "code",
   "execution_count": null,
   "metadata": {},
   "outputs": [],
   "source": []
  }
 ],
 "metadata": {
  "kernelspec": {
   "display_name": "Python 3",
   "language": "python",
   "name": "python3"
  },
  "language_info": {
   "codemirror_mode": {
    "name": "ipython",
    "version": 3
   },
   "file_extension": ".py",
   "mimetype": "text/x-python",
   "name": "python",
   "nbconvert_exporter": "python",
   "pygments_lexer": "ipython3",
   "version": "3.7.0"
  }
 },
 "nbformat": 4,
 "nbformat_minor": 2
}
